{
 "cells": [
  {
   "cell_type": "code",
   "execution_count": 2,
   "id": "4abd8459-d11b-45af-abdc-9a1d0a44b71e",
   "metadata": {},
   "outputs": [
    {
     "name": "stdout",
     "output_type": "stream",
     "text": [
      " The best solution found:                                                                           \n",
      " [198.78430907  10.78396389  18.94923677]\n",
      "\n",
      " Objective function:\n",
      " 1.0446385533458562\n"
     ]
    },
    {
     "data": {
      "image/png": "[encoded data removed]",
      "text/plain": [
       "<Figure size 640x480 with 1 Axes>"
      ]
     },
     "metadata": {},
     "output_type": "display_data"
    },
    {
     "name": "stdout",
     "output_type": "stream",
     "text": [
      "\n",
      " Optimized Input Parameters (GA result):\n",
      "Inlet Temp: 198.78 °C\n",
      "Feed Rate: 10.78 L/h\n",
      "Solids Content: 18.95 %\n",
      "Predicted Moisture Content: 1.0446\n"
     ]
    }
   ],
   "source": [
    "import numpy as np\n",
    "import matplotlib.pyplot as plt\n",
    "from sklearn.neural_network import MLPRegressor\n",
    "from sklearn.model_selection import train_test_split\n",
    "from sklearn.preprocessing import MinMaxScaler\n",
    "from geneticalgorithm import geneticalgorithm as ga\n",
    "np.random.seed(42)\n",
    "X = np.random.uniform(low=[160, 5, 10], high=[200, 20, 30], size=(100, 3))\n",
    "y = (\n",
    " 0.1 * (200 - X[:, 0]) + # lower temp -> higher moisture\n",
    " 0.05 * (20 - X[:, 1]) + # lower feed rate -> more drying\n",
    " 0.03 * (30 - X[:, 2]) + # lower solids -> more moisture\n",
    " np.random.normal(0, 0.5, 100) # some noise\n",
    ")\n",
    "# Normalize features\n",
    "scaler = MinMaxScaler()\n",
    "X_scaled = scaler.fit_transform(X) \n",
    "# Split into train and validaƟon\n",
    "X_train, X_val, y_train, y_val = train_test_split(X_scaled, y, test_size=0.2, random_state=42)\n",
    "model = MLPRegressor(hidden_layer_sizes=(10, 10), max_iter=1000, random_state=1)\n",
    "model.fit(X_train, y_train)\n",
    "def objective_function(x):\n",
    " # Normalize input\n",
    "    x_scaled = scaler.transform([x])\n",
    "    prediction = model.predict(x_scaled)[0]\n",
    "    return prediction # minimize moisture content\n",
    "varbound = np.array([[160, 200], [5, 20], [10, 30]])\n",
    "algorithm_params = {\n",
    " 'max_num_iteration': 50,\n",
    " 'population_size': 15,\n",
    " 'mutation_probability': 0.1,\n",
    " 'elit_ratio': 0.01,\n",
    " 'crossover_probability': 0.9,\n",
    " 'parents_portion': 0.3,\n",
    " 'crossover_type': 'uniform',\n",
    " 'max_iteration_without_improv': None\n",
    "}\n",
    "model_ga = ga(\n",
    " function=objective_function,\n",
    " dimension=3,\n",
    " variable_type='real',\n",
    " variable_boundaries=varbound,\n",
    " algorithm_parameters=algorithm_params\n",
    ") \n",
    "model_ga.run()\n",
    "best_input = model_ga.output_dict['variable']\n",
    "best_prediction = model_ga.output_dict['function']\n",
    "print(\"\\n Optimized Input Parameters (GA result):\")\n",
    "print(f\"Inlet Temp: {best_input[0]:.2f} °C\")\n",
    "print(f\"Feed Rate: {best_input[1]:.2f} L/h\")\n",
    "print(f\"Solids Content: {best_input[2]:.2f} %\")\n",
    "print(f\"Predicted Moisture Content: {best_prediction:.4f}\") \n"
   ]
  },
  {
   "cell_type": "code",
   "execution_count": 3,
   "id": "3752ba4f-e6a2-4a24-afb5-c742be3dbd92",
   "metadata": {},
   "outputs": [
    {
     "name": "stdout",
     "output_type": "stream",
     "text": [
      "Requirement already satisfied: scikit-learn in c:\\users\\kaustubh sathe\\appdata\\roaming\\python\\python312\\site-packages (1.6.1)\n",
      "Requirement already satisfied: numpy>=1.19.5 in c:\\users\\kaustubh sathe\\appdata\\roaming\\python\\python312\\site-packages (from scikit-learn) (1.26.4)\n",
      "Requirement already satisfied: scipy>=1.6.0 in c:\\users\\kaustubh sathe\\appdata\\roaming\\python\\python312\\site-packages (from scikit-learn) (1.13.1)\n",
      "Requirement already satisfied: joblib>=1.2.0 in c:\\users\\kaustubh sathe\\appdata\\roaming\\python\\python312\\site-packages (from scikit-learn) (1.4.2)\n",
      "Requirement already satisfied: threadpoolctl>=3.1.0 in c:\\users\\kaustubh sathe\\appdata\\roaming\\python\\python312\\site-packages (from scikit-learn) (3.5.0)\n",
      "Note: you may need to restart the kernel to use updated packages.\n"
     ]
    }
   ],
   "source": [
    "pip install scikit-learn"
   ]
  },
  {
   "cell_type": "code",
   "execution_count": 10,
   "id": "bcd3adae-260e-428c-b409-15ae1bbc1092",
   "metadata": {},
   "outputs": [
    {
     "name": "stdout",
     "output_type": "stream",
     "text": [
      "Collecting geneticalgorithm\n",
      "  Downloading geneticalgorithm-1.0.2-py3-none-any.whl.metadata (25 kB)\n",
      "Collecting func-timeout (from geneticalgorithm)\n",
      "  Downloading func_timeout-4.3.5.tar.gz (44 kB)\n",
      "  Preparing metadata (setup.py): started\n",
      "  Preparing metadata (setup.py): finished with status 'done'\n",
      "Requirement already satisfied: numpy in c:\\users\\kaustubh sathe\\appdata\\roaming\\python\\python312\\site-packages (from geneticalgorithm) (1.26.4)\n",
      "Downloading geneticalgorithm-1.0.2-py3-none-any.whl (16 kB)\n",
      "Building wheels for collected packages: func-timeout\n",
      "  Building wheel for func-timeout (setup.py): started\n",
      "  Building wheel for func-timeout (setup.py): finished with status 'done'\n",
      "  Created wheel for func-timeout: filename=func_timeout-4.3.5-py3-none-any.whl size=15161 sha256=455b9d27c72effe4bf60758672a59934cb4792650bbc2dec3e7a16d0d9f79cb9\n",
      "  Stored in directory: c:\\users\\kaustubh sathe\\appdata\\local\\pip\\cache\\wheels\\ed\\94\\4a\\9ccd71f7284a92e4137b7dd0ce8540c40ea7c2689251504a49\n",
      "Successfully built func-timeout\n",
      "Installing collected packages: func-timeout, geneticalgorithm\n",
      "Successfully installed func-timeout-4.3.5 geneticalgorithm-1.0.2\n",
      "Note: you may need to restart the kernel to use updated packages.\n"
     ]
    }
   ],
   "source": [
    "pip install geneticalgorithm"
   ]
  },
  {
   "cell_type": "code",
   "execution_count": null,
   "id": "354517a9-c30a-4624-b766-4a05fa7dfc6c",
   "metadata": {},
   "outputs": [],
   "source": []
  }
 ],
 "metadata": {
  "kernelspec": {
   "display_name": "Python 3 (ipykernel)",
   "language": "python",
   "name": "python3"
  },
  "language_info": {
   "codemirror_mode": {
    "name": "ipython",
    "version": 3
   },
   "file_extension": ".py",
   "mimetype": "text/x-python",
   "name": "python",
   "nbconvert_exporter": "python",
   "pygments_lexer": "ipython3",
   "version": "3.12.7"
  }
 },
 "nbformat": 4,
 "nbformat_minor": 5
}
