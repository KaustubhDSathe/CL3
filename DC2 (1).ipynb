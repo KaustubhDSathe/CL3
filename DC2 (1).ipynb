{
 "cells": [
  {
   "cell_type": "code",
   "execution_count": 1,
   "id": "df0b0522-f1ad-4721-ade5-dc4fe3a6d7b8",
   "metadata": {},
   "outputs": [
    {
     "name": "stdout",
     "output_type": "stream",
     "text": [
      "Best individual: [-0.007885343368177384, -0.0020800032470525013, 0.0008414228171018164]\n",
      "Best fitness: 6.721304589894756e-05\n"
     ]
    }
   ],
   "source": [
    "import random\n",
    "from deap import base, creator, tools, algorithms\n",
    "\n",
    "# Define the evaluation function (minimize a simple mathematical function)\n",
    "def eval_func(individual):\n",
    "    # Example evaluation function (minimize a quadratic function)\n",
    "    return sum(x ** 2 for x in individual),\n",
    "\n",
    "# DEAP setup\n",
    "creator.create(\"FitnessMin\", base.Fitness, weights=(-1.0,))\n",
    "creator.create(\"Individual\", list, fitness=creator.FitnessMin)\n",
    "\n",
    "toolbox = base.Toolbox()\n",
    "\n",
    "# Define attributes and individuals\n",
    "toolbox.register(\"attr_float\", random.uniform, -5.0, 5.0) # Example: Float values between -5 and 5\n",
    "toolbox.register(\"individual\", tools.initRepeat, creator.Individual, toolbox.attr_float, n=3) # Example: 3-dimensional individual\n",
    "toolbox.register(\"population\", tools.initRepeat, list, toolbox.individual)\n",
    "\n",
    "# Evaluation function and genetic operators\n",
    "toolbox.register(\"evaluate\", eval_func)\n",
    "toolbox.register(\"mate\", tools.cxBlend, alpha=0.5)\n",
    "toolbox.register(\"mutate\", tools.mutGaussian, mu=0, sigma=1, indpb=0.2)\n",
    "toolbox.register(\"select\", tools.selTournament, tournsize=3)\n",
    "\n",
    "# Create population\n",
    "population = toolbox.population(n=50)\n",
    "\n",
    "# Genetic Algorithm parameters\n",
    "generations = 20\n",
    "\n",
    "# Run the algorithm\n",
    "for gen in range(generations):\n",
    "    offspring = algorithms.varAnd(population, toolbox, cxpb=0.5, mutpb=0.1)\n",
    "    fits = toolbox.map(toolbox.evaluate, offspring)\n",
    "    for fit, ind in zip(fits, offspring):\n",
    "        ind.fitness.values = fit\n",
    "\n",
    "    population = toolbox.select(offspring, k=len(population))\n",
    "\n",
    "# Get the best individual after generations\n",
    "best_ind = tools.selBest(population, k=1)[0]\n",
    "best_fitness = best_ind.fitness.values[0]\n",
    "\n",
    "print(\"Best individual:\", best_ind)\n",
    "print(\"Best fitness:\", best_fitness)"
   ]
  },
  {
   "cell_type": "code",
   "execution_count": 3,
   "id": "b4bdc111-bdb2-4376-9797-cce1de00b519",
   "metadata": {},
   "outputs": [
    {
     "name": "stdout",
     "output_type": "stream",
     "text": [
      "Collecting deap\n",
      "  Downloading deap-1.4.2-cp312-cp312-win_amd64.whl.metadata (13 kB)\n",
      "Requirement already satisfied: numpy in c:\\users\\kaustubh sathe\\appdata\\roaming\\python\\python312\\site-packages (from deap) (1.26.4)\n",
      "Downloading deap-1.4.2-cp312-cp312-win_amd64.whl (109 kB)\n",
      "Installing collected packages: deap\n",
      "Successfully installed deap-1.4.2\n",
      "Note: you may need to restart the kernel to use updated packages.\n"
     ]
    }
   ],
   "source": [
    "pip install deap"
   ]
  },
  {
   "cell_type": "code",
   "execution_count": null,
   "id": "8b30b27c-aded-4993-979c-f3c6c4ab2df3",
   "metadata": {},
   "outputs": [],
   "source": []
  }
 ],
 "metadata": {
  "kernelspec": {
   "display_name": "Python 3 (ipykernel)",
   "language": "python",
   "name": "python3"
  },
  "language_info": {
   "codemirror_mode": {
    "name": "ipython",
    "version": 3
   },
   "file_extension": ".py",
   "mimetype": "text/x-python",
   "name": "python",
   "nbconvert_exporter": "python",
   "pygments_lexer": "ipython3",
   "version": "3.12.7"
  }
 },
 "nbformat": 4,
 "nbformat_minor": 5
}
