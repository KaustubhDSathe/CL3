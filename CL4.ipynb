{
 "cells": [
  {
   "cell_type": "code",
   "execution_count": 1,
   "id": "1dc52459-8282-4bf9-93e8-38bb4b12354d",
   "metadata": {},
   "outputs": [
    {
     "name": "stdout",
     "output_type": "stream",
     "text": [
      "Union: {'x2': 0.5, 'x3': 0.9, 'x1': 0.6}\n",
      "IntersecƟon: {'x2': 0.4, 'x1': 0.2, 'x3': 0.7}\n",
      "Complement of A: {'x1': 0.8, 'x2': 0.5, 'x3': 0.30000000000000004}\n",
      "Difference A - B: {'x1': 0.2, 'x2': 0.5, 'x3': 0.09999999999999998}\n",
      "Fuzzy RelaƟon R1 (A × B): {('x1', 'x1'): 0.2, ('x1', 'x2'): 0.2, ('x1', 'x3'): 0.2, ('x2', 'x1'): 0.5, ('x2', 'x2'): 0.4, ('x2', 'x3'): 0.5, ('x3', 'x1'): 0.6, ('x3', 'x2'): 0.4, ('x3', 'x3'): 0.7}\n",
      "Fuzzy RelaƟon R2 (B × A): {('x1', 'x1'): 0.2, ('x1', 'x2'): 0.5, ('x1', 'x3'): 0.6, ('x2', 'x1'): 0.2, ('x2', 'x2'): 0.4, ('x2', 'x3'): 0.4, ('x3', 'x1'): 0.2, ('x3', 'x2'): 0.5, ('x3', 'x3'): 0.7}\n",
      "Max-Min ComposiƟon of R1 and R2: {('x1', 'x1'): 0.2, ('x1', 'x2'): 0.2, ('x1', 'x3'): 0.2, ('x2', 'x1'): 0.2, ('x2', 'x2'): 0.5, ('x2', 'x3'): 0.5, ('x3', 'x1'): 0.2, ('x3', 'x2'): 0.5, ('x3', 'x3'): 0.7}\n"
     ]
    }
   ],
   "source": [
    "# Define fuzzy sets as dicƟonaries: {element: membership_value}\n",
    "A = {'x1': 0.2, 'x2': 0.5, 'x3': 0.7}\n",
    "B = {'x1': 0.6, 'x2': 0.4, 'x3': 0.9}\n",
    "# Union: max(A(x), B(x))\n",
    "def fuzzy_union(A, B):\n",
    "    return {key: max(A.get(key, 0), B.get(key, 0)) for key in set(A) | set(B)}\n",
    "# IntersecƟon: min(A(x), B(x))\n",
    "def fuzzy_intersecƟon(A, B):\n",
    "    return {key: min(A.get(key, 0), B.get(key, 0)) for key in set(A) & set(B)}\n",
    "# Complement: 1 - A(x)\n",
    "def fuzzy_complement(A):\n",
    "    return {key: 1 - value for key, value in A.items()}\n",
    "# Difference: min(A(x), 1 - B(x))\n",
    "def fuzzy_difference(A, B):\n",
    "    return {key: min(A.get(key, 0), 1 - B.get(key, 0)) for key in A}\n",
    "# Cartesian Product (Fuzzy RelaƟon): μR(x, y) = min(A(x), B(y))\n",
    "def cartesian_product(A, B):\n",
    "    return {(x, y): min(A[x], B[y]) for x in A for y in B} \n",
    "# Max-Min ComposiƟon of two fuzzy relaƟons R1 and R2\n",
    "def max_min_composiƟon(R1, R2):\n",
    " # Extract unique elements from R1 and R2\n",
    "    X = sorted(set(i for i, _ in R1))\n",
    "    Y = sorted(set(j for _, j in R1))\n",
    "    Z = sorted(set(k for _, k in R2))\n",
    "    result = {}\n",
    "    for x in X:\n",
    "        for z in Z:\n",
    "            values = [min(R1.get((x, y), 0), R2.get((y, z), 0)) for y in Y]\n",
    "            result[(x, z)] = max(values) if values else 0\n",
    "    return result\n",
    "print(\"Union:\", fuzzy_union(A, B))\n",
    "print(\"IntersecƟon:\", fuzzy_intersecƟon(A, B))\n",
    "print(\"Complement of A:\", fuzzy_complement(A))\n",
    "print(\"Difference A - B:\", fuzzy_difference(A, B)) \n",
    "# Fuzzy relaƟons from cartesian product\n",
    "R1 = cartesian_product(A, B)\n",
    "R2 = cartesian_product(B, A)\n",
    "print(\"Fuzzy RelaƟon R1 (A × B):\", R1)\n",
    "print(\"Fuzzy RelaƟon R2 (B × A):\", R2)\n",
    "# Max-Min ComposiƟon of R1 and R2\n",
    "composed = max_min_composiƟon(R1, R2)\n",
    "print(\"Max-Min ComposiƟon of R1 and R2:\", composed)"
   ]
  },
  {
   "cell_type": "code",
   "execution_count": null,
   "id": "35ac5d17-5652-409d-bec6-f86c86310df1",
   "metadata": {},
   "outputs": [],
   "source": []
  }
 ],
 "metadata": {
  "kernelspec": {
   "display_name": "Python 3 (ipykernel)",
   "language": "python",
   "name": "python3"
  },
  "language_info": {
   "codemirror_mode": {
    "name": "ipython",
    "version": 3
   },
   "file_extension": ".py",
   "mimetype": "text/x-python",
   "name": "python",
   "nbconvert_exporter": "python",
   "pygments_lexer": "ipython3",
   "version": "3.12.7"
  }
 },
 "nbformat": 4,
 "nbformat_minor": 5
}
